{
 "cells": [
  {
   "cell_type": "markdown",
   "id": "d5fd9a2a",
   "metadata": {},
   "source": [
    "# Part A: House Hunting \n",
    " You have graduated from MIT and now have a great job! You move to the San Francisco Bay Area and \n",
    "decide that you want to start saving to buy a house.  As housing prices are very high in the Bay Area, \n",
    "you realize you are going to have to save for several years before you can afford to make the down \n",
    "payment on a house. In Part A, we are going to determine how long it will take you to save enough \n",
    "money to make the down payment given the following assumptions: \n",
    " \n",
    "1. Call the cost of your dream home ​total_cost​. \n",
    "2. Call the portion of the cost needed for a down payment ​portion_down_payment​. For \n",
    "simplicity, assume that portion_down_payment = 0.25 (25%). \n",
    "3. Call the amount that you have saved thus far ​current_savings​. You start with a current \n",
    "savings of $0. \n",
    "4. Assume that you invest your current savings wisely, with an annual return of ​r ​(in other words, \n",
    "at the end of each month, you receive an additional ​current_savings*r/12​ funds to put into \n",
    "your savings – the 12 is because ​r​ is an annual rate). Assume that your investments earn a \n",
    "return of r = 0.04 (4%). \n",
    "5. Assume your annual salary is ​annual_salary​. \n",
    "6. Assume you are going to dedicate a certain amount of your salary each month to saving for \n",
    "the down payment. Call that ​portion_saved​. This variable should be in decimal form (i.e. 0.1 \n",
    "for 10%). \n",
    "7. At the end of each month, your savings will be increased by the return on your investment, \n",
    "plus a percentage of your ​monthly salary ​(annual salary / 12). \n",
    " \n",
    "Write a program to calculate how many months it will take you to save up enough money for a down \n",
    "payment. You will want your main variables to be floats, so you should cast user inputs to floats.   "
   ]
  },
  {
   "cell_type": "code",
   "execution_count": 8,
   "id": "910fe684",
   "metadata": {},
   "outputs": [
    {
     "name": "stdout",
     "output_type": "stream",
     "text": [
      "Enter cost of the home:500000\n",
      "Enter your annual salary:80000\n",
      "Enter portion saved:.15\n",
      "the number of monnths required for downpayment:105 \n"
     ]
    }
   ],
   "source": [
    "#FIND MONEY TO BE SAVED FOR DOWN-PAYMENT\n",
    "\n",
    "total_cost = float(input(\"Enter cost of the home:\"))\n",
    "annual_salary = float(input(\"Enter your annual salary:\"))\n",
    "\n",
    "portion_saved = float(input(\"Enter portion saved:\"))#portion saved is  some x%of annual salary\n",
    "\n",
    "\n",
    "portion_down_payment = 0.25*total_cost\n",
    "current_savings = 0\n",
    "r = 0.04\n",
    "\n",
    "\n",
    "#MONTHLY PARAMETERS\n",
    "monthly_salary = annual_salary/12 #monthly salary\n",
    "annual_return = (current_savings*r)/12 #annual return\n",
    "\n",
    "portion_saved=portion_saved*monthly_salary# PORTION SAVED EACH MONTH \n",
    "month = 0 \n",
    "\n",
    "while (current_savings<=portion_down_payment):\n",
    "    current_savings+= (current_savings*r/12)+ portion_saved\n",
    "    month+=1\n",
    "    \n",
    "print(f\"the number of monnths required for downpayment:{month} \")\n",
    "\n",
    "\n",
    "\n",
    "\n"
   ]
  },
  {
   "cell_type": "code",
   "execution_count": null,
   "id": "07c77d5b",
   "metadata": {},
   "outputs": [],
   "source": []
  },
  {
   "cell_type": "markdown",
   "id": "5c150f4d",
   "metadata": {},
   "source": [
    "Part B: Saving, with a raise \n",
    " \n",
    "Background  \n",
    "In Part A, we unrealistically assumed that your salary didn’t change.  But you are an MIT graduate, and \n",
    "clearly you are going to be worth more to your company over time! So we are going to build on your \n",
    "solution to Part A by factoring in a raise every six months. \n",
    " \n",
    "In ​ps1b.py​, copy your solution to Part A (as we are going to reuse much of that machinery).  Modify \n",
    "your program to include the following \n",
    "1. Have the user input a semi-annual salary raise ​semi_annual_raise​ (as a decimal percentage) \n",
    "2. After the 6​th​ month, increase your salary by that percentage.  Do the same after the 12th\n",
    "​\n",
    "th \n",
    "month, the 18​ ​ month, and so on. \n",
    " \n",
    "Write a program to calculate how many months it will take you save up enough money for a down \n",
    "payment.  LIke before, assume that your investments earn a return of ​r​ = 0.04 (or 4%) and the \n",
    "required down payment percentage is 0.25 (or 25%).  Have the user enter the following variables: \n",
    "1. The starting annual salary (annual_salary) 2\n",
    "2. The percentage of salary to be saved (portion_saved) \n",
    "3. The cost of your dream home (total_cost) \n",
    "4. The semi­annual salary raise (semi_annual_raise)"
   ]
  },
  {
   "cell_type": "code",
   "execution_count": 36,
   "id": "aaaaa938",
   "metadata": {},
   "outputs": [
    {
     "name": "stdout",
     "output_type": "stream",
     "text": [
      "Enter cost of the home:500000\n",
      "Enter your annual salary:120000\n",
      "Enter portion saved:.05\n",
      "enter inc: .03\n",
      "the number of monnths required for downpayment:142 \n"
     ]
    }
   ],
   "source": [
    "#FIND MONEY TO BE SAVED FOR DOWN-PAYMENT----WITH RAISE\n",
    "\n",
    "total_cost = float(input(\"Enter cost of the home:\"))\n",
    "annual_salary = float(input(\"Enter your annual salary:\"))\n",
    "\n",
    "portion_saved_perc = float(input(\"Enter portion saved:\"))#portion saved is  some x%of annual salary\n",
    "semi_inc = float(input(\"enter inc: \"))\n",
    "\n",
    "\n",
    "\n",
    "portion_down_payment = 0.25*total_cost\n",
    "current_savings = 0\n",
    "r = 0.04\n",
    "\n",
    "\n",
    "#MONTHLY PARAMETERS\n",
    "monthly_salary = annual_salary/12 #monthly salary\n",
    "annual_return = (current_savings*r)/12 #annual return\n",
    "\n",
    "\n",
    "portion_saved = portion_saved_perc * monthly_salary # PORTION SAVED EACH MONTH \n",
    "month = 0 \n",
    "\n",
    "while (current_savings<=portion_down_payment):\n",
    "    current_savings+= (current_savings*r/12)+ portion_saved\n",
    "    month+=1\n",
    "    if month%6 == 0:\n",
    "        monthly_salary = (monthly_salary*semi_inc) + monthly_salary\n",
    "        portion_saved = portion_saved_perc * monthly_salary\n",
    "print(f\"the number of monnths required for downpayment:{month} \")\n"
   ]
  },
  {
   "cell_type": "code",
   "execution_count": null,
   "id": "fa17e30c",
   "metadata": {},
   "outputs": [],
   "source": []
  },
  {
   "cell_type": "code",
   "execution_count": 21,
   "id": "edfe050a",
   "metadata": {},
   "outputs": [
    {
     "name": "stdout",
     "output_type": "stream",
     "text": [
      "Enter your annual salary:9000\n",
      "Enter your annual salary:.10\n",
      "9900.0\n",
      "10890.0\n"
     ]
    }
   ],
   "source": [
    "#approach 1 for checking increment for 6 month\n",
    "annual_salary = float(input(\"Enter your annual salary:\"))\n",
    "\n",
    "semi_inc = float(input(\"Enter your annual salary:\"))\n",
    "\n",
    "for i in range(1 , 10 , 6):\n",
    "    annual_salary+= semi_inc*annual_salary\n",
    "    print(annual_salary)\n",
    "\n"
   ]
  },
  {
   "cell_type": "code",
   "execution_count": 23,
   "id": "caa0b254",
   "metadata": {},
   "outputs": [
    {
     "name": "stdout",
     "output_type": "stream",
     "text": [
      "Enter your annual salary:9000\n",
      "Enter your annual salary:.10\n",
      "9900.0\n",
      "10890.0\n",
      "11979.0\n",
      "13176.9\n",
      "14494.59\n",
      "15944.049\n",
      "17538.4539\n",
      "19292.29929\n",
      "21221.529219\n",
      "23343.6821409\n",
      "25678.050354990002\n",
      "28245.855390489003\n",
      "31070.440929537905\n",
      "34177.485022491695\n",
      "37595.23352474086\n"
     ]
    }
   ],
   "source": [
    "#approach 2 for checking increment for 6 month\n",
    "annual_salary = float(input(\"Enter your annual salary:\"))\n",
    "\n",
    "semi_inc = float(input(\"Enter your annual salary:\"))\n",
    "while (i<=100):\n",
    "    if i%6 == 0:\n",
    "        annual_salary+= semi_inc*annual_salary\n",
    "        print(annual_salary)\n",
    "    i+=1\n",
    "        "
   ]
  },
  {
   "cell_type": "code",
   "execution_count": null,
   "id": "8e095718",
   "metadata": {},
   "outputs": [],
   "source": []
  },
  {
   "cell_type": "code",
   "execution_count": null,
   "id": "c252a49a",
   "metadata": {},
   "outputs": [],
   "source": []
  },
  {
   "cell_type": "code",
   "execution_count": null,
   "id": "e9c9213a",
   "metadata": {},
   "outputs": [],
   "source": []
  }
 ],
 "metadata": {
  "kernelspec": {
   "display_name": "Python 3",
   "language": "python",
   "name": "python3"
  },
  "language_info": {
   "codemirror_mode": {
    "name": "ipython",
    "version": 3
   },
   "file_extension": ".py",
   "mimetype": "text/x-python",
   "name": "python",
   "nbconvert_exporter": "python",
   "pygments_lexer": "ipython3",
   "version": "3.8.8"
  }
 },
 "nbformat": 4,
 "nbformat_minor": 5
}
