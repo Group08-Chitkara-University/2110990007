{
 "cells": [
  {
   "cell_type": "code",
   "execution_count": 45,
   "id": "446f94e9",
   "metadata": {},
   "outputs": [
    {
     "name": "stdout",
     "output_type": "stream",
     "text": [
      "Let's Play Wordle:\n",
      "Type a 5 letter word and hit enter!\n",
      "sorry\n",
      "s o r r y green\n",
      "\u001b[32mg\u001b[0m r e e \u001b[33mn\u001b[0m guide\n",
      "\u001b[32mg\u001b[0m u \u001b[33mi\u001b[0m d e going\n",
      "\u001b[32mg\u001b[0m o \u001b[33mi\u001b[0m \u001b[32mn\u001b[0m \u001b[33mg\u001b[0m grown\n",
      "\u001b[32mg\u001b[0m r o w \u001b[33mn\u001b[0m grant\n",
      "\u001b[32mg\u001b[0m r \u001b[32ma\u001b[0m \u001b[32mn\u001b[0m \u001b[32mt\u001b[0m Sorry!, you could not guess the word!! , the word was giant\n"
     ]
    }
   ],
   "source": [
    "import random\n",
    "import sys\n",
    "from termcolor import colored\n",
    "\n",
    "def print_menu():\n",
    "    print(\"Let's Play Wordle:\")\n",
    "    print(\"Type a 5 letter word and hit enter!\")\n",
    "\n",
    "def read_random_word():\n",
    "    with open(\"wordsp.txt\") as f:\n",
    "        words = f.read().splitlines()\n",
    "        return random.choice(words)\n",
    "print_menu()\n",
    "word = read_random_word()\n",
    "\n",
    "for attempt in range(1,7):\n",
    "    guess = input().lower()\n",
    "    \n",
    "    for i in range(min(len(guess),5)):\n",
    "        \n",
    "\n",
    "        if guess[i] == word[i]:\n",
    "            print(colored(guess[i],\"green\"),end = \" \")\n",
    "        elif guess[i] in word:\n",
    "             print(colored(guess[i],\"yellow\"),end = \" \")\n",
    "        else:\n",
    "            print(guess[i],end=\" \")\n",
    "        \n",
    "    if guess == word :\n",
    "        print(colored(f\"Congrats! You got the words in {attempt} guesses\"  , \"red\"))\n",
    "        break\n",
    "    \n",
    "print(f\"Sorry!, you could not guess the word!! , the word was {word}\")\n",
    "            \n",
    "\n"
   ]
  },
  {
   "cell_type": "code",
   "execution_count": 11,
   "id": "60cd4275",
   "metadata": {},
   "outputs": [
    {
     "name": "stdout",
     "output_type": "stream",
     "text": [
      "^C\n",
      "Note: you may need to restart the kernel to use updated packages.\n"
     ]
    }
   ],
   "source": [
    "pip install termcolor\n"
   ]
  },
  {
   "cell_type": "code",
   "execution_count": null,
   "id": "b5893d0d",
   "metadata": {},
   "outputs": [],
   "source": []
  },
  {
   "cell_type": "code",
   "execution_count": null,
   "id": "8a69c9a8",
   "metadata": {},
   "outputs": [],
   "source": []
  },
  {
   "cell_type": "code",
   "execution_count": null,
   "id": "676bba2f",
   "metadata": {},
   "outputs": [],
   "source": []
  },
  {
   "cell_type": "code",
   "execution_count": null,
   "id": "2463d88c",
   "metadata": {},
   "outputs": [],
   "source": []
  }
 ],
 "metadata": {
  "kernelspec": {
   "display_name": "Python 3 (ipykernel)",
   "language": "python",
   "name": "python3"
  },
  "language_info": {
   "codemirror_mode": {
    "name": "ipython",
    "version": 3
   },
   "file_extension": ".py",
   "mimetype": "text/x-python",
   "name": "python",
   "nbconvert_exporter": "python",
   "pygments_lexer": "ipython3",
   "version": "3.9.7"
  }
 },
 "nbformat": 4,
 "nbformat_minor": 5
}
