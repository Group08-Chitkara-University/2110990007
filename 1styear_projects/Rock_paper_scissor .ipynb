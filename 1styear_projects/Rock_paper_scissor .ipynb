{
 "cells": [
  {
   "cell_type": "code",
   "execution_count": 16,
   "id": "50a01fbe",
   "metadata": {},
   "outputs": [
    {
     "name": "stdout",
     "output_type": "stream",
     "text": [
      "number of games u wanna play:4\n",
      "rock\n",
      "score:0 , x ;rock\n",
      "paper\n",
      "score:1 , x ;rock\n",
      "scissor\n",
      "score:1 , x ;scissor\n",
      "paper\n",
      "score:0 , x ;scissor\n"
     ]
    }
   ],
   "source": [
    "#Rock Paper scissor game \n",
    "#by aakash sedha\n",
    "import random\n",
    "a = [\"rock\", \"paper\" , \"scissor\"]\n",
    "n = int(input(\"number of games u wanna play:\"))\n",
    "score = 0\n",
    " \n",
    "\n",
    "while (n>0):\n",
    "    pl = input()\n",
    "    x = random.choice(a)\n",
    "   \n",
    "    \n",
    "    #cases if user chooses rock\n",
    "    if pl == \"rock\" and x ==\"rock\":\n",
    "        print(f\"score:{score} , x ;{x}\")\n",
    "    if pl == \"rock\" and x == \"scissor\":\n",
    "        score += 1\n",
    "        print(f\"score:{score} , x ;{x}\")\n",
    "    if pl == \"rock\" and x == \"paper\":\n",
    "        score += 1\n",
    "        print(f\"score:{score} , x ;{x}\")\n",
    "    \n",
    "    #cases if user chooses scissor\n",
    "    if pl == \"scissor\" and x ==\"scissor\":\n",
    "        print(f\"score:{score} , x ;{x}\")\n",
    "    if pl == \"scissor\" and x == \"rock\":\n",
    "        score -= 1\n",
    "        print(f\"score:{score} , x ;{x}\")\n",
    "    if pl == \"scissor\" and x == \"paper\":\n",
    "        score -= 1\n",
    "        print(f\"score:{score} , x ;{x}\")\n",
    "        \n",
    "        \n",
    "     #cases if user chooses scissor\n",
    "    if pl == \"paper\" and x ==\"paper\":\n",
    "        print(f\"score:{score} , x ;{x}\")\n",
    "    if pl == \"paper\" and x == \"scissor\":\n",
    "        score -= 1\n",
    "        print(f\"score:{score} , x ;{x}\")\n",
    "    if pl == \"paper\" and x == \"rock\":\n",
    "        score += 1\n",
    "        print(f\"score:{score} , x ;{x}\")\n",
    "    \n",
    "    n-=1\n",
    "        "
   ]
  },
  {
   "cell_type": "code",
   "execution_count": null,
   "id": "2f414f85",
   "metadata": {},
   "outputs": [],
   "source": []
  },
  {
   "cell_type": "code",
   "execution_count": null,
   "id": "fca857ec",
   "metadata": {},
   "outputs": [],
   "source": []
  }
 ],
 "metadata": {
  "kernelspec": {
   "display_name": "Python 3 (ipykernel)",
   "language": "python",
   "name": "python3"
  },
  "language_info": {
   "codemirror_mode": {
    "name": "ipython",
    "version": 3
   },
   "file_extension": ".py",
   "mimetype": "text/x-python",
   "name": "python",
   "nbconvert_exporter": "python",
   "pygments_lexer": "ipython3",
   "version": "3.9.7"
  }
 },
 "nbformat": 4,
 "nbformat_minor": 5
}
